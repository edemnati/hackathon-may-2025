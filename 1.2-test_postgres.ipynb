{
 "cells": [
  {
   "cell_type": "code",
   "execution_count": null,
   "metadata": {},
   "outputs": [],
   "source": [
    "import json\n",
    "import os\n",
    "from pathlib import Path\n",
    "import pandas as pd\n",
    "\n",
    "from azure.identity import DefaultAzureCredential\n",
    "from dotenv import load_dotenv\n",
    "from pgvector.sqlalchemy import Vector\n",
    "from sqlalchemy import Index, create_engine, select, text\n",
    "from sqlalchemy.orm import Session\n"
   ]
  },
  {
   "cell_type": "code",
   "execution_count": 2,
   "metadata": {},
   "outputs": [
    {
     "name": "stdout",
     "output_type": "stream",
     "text": [
      "Authenticating to Azure Database for PostgreSQL using Azure Identity...\n"
     ]
    }
   ],
   "source": [
    "\n",
    "# Connect to the database based on environment variables\n",
    "load_dotenv(\".env\", override=True)\n",
    "POSTGRES_HOST = os.environ[\"POSTGRES_HOST\"]\n",
    "POSTGRES_USERNAME = os.environ[\"POSTGRES_USERNAME\"]\n",
    "POSTGRES_DATABASE = os.environ[\"POSTGRES_DATABASE\"]\n",
    "\n",
    "if POSTGRES_HOST.endswith(\".database.azure.com\"):\n",
    "    print(\"Authenticating to Azure Database for PostgreSQL using Azure Identity...\")\n",
    "    azure_credential = DefaultAzureCredential()\n",
    "    token = azure_credential.get_token(\"https://ossrdbms-aad.database.windows.net/.default\")\n",
    "    POSTGRES_PASSWORD = token.token\n",
    "else:\n",
    "    POSTGRES_PASSWORD = os.environ[\"POSTGRES_PASSWORD\"]\n",
    "\n",
    "DATABASE_URI = f\"postgresql://{POSTGRES_USERNAME}:{POSTGRES_PASSWORD}@{POSTGRES_HOST}/{POSTGRES_DATABASE}\"\n",
    "# Specify SSL mode if needed\n",
    "if POSTGRES_SSL := os.environ.get(\"POSTGRES_SSL\"):\n",
    "    DATABASE_URI += f\"?sslmode={POSTGRES_SSL}\"\n",
    "\n",
    "engine = create_engine(DATABASE_URI, echo=False)"
   ]
  },
  {
   "cell_type": "code",
   "execution_count": 4,
   "metadata": {},
   "outputs": [
    {
     "name": "stdout",
     "output_type": "stream",
     "text": [
      "Most similar recipes to 'chicken and peanut':\n",
      "--------------------------------------------------\n",
      "INPUT: chicken and peanut: \n",
      "OUTPUT: Sweet and Sour Chicken III SCORE: (0.20339465)\n",
      "--------------------------------------------------\n",
      "INPUT: chicken and peanut: \n",
      "OUTPUT: Sticky Orange Chicken with Nectarines SCORE: (0.19649275)\n",
      "--------------------------------------------------\n",
      "INPUT: chicken and peanut: \n",
      "OUTPUT: Spinach Salad with Chicken, Avocado, and Goat Cheese SCORE: (0.21424025)\n",
      "--------------------------------------------------\n",
      "INPUT: chicken and peanut: \n",
      "OUTPUT: Southern Apricot Chicken SCORE: (0.2084128)\n",
      "--------------------------------------------------\n",
      "INPUT: chicken and peanut: \n",
      "OUTPUT: Peanut Butter Mango Smoothie SCORE: (0.19763698)\n",
      "--------------------------------------------------\n",
      "INPUT: chicken and peanut: \n",
      "OUTPUT: Peanut Butter Banana Smoothie SCORE: (0.19594538)\n",
      "--------------------------------------------------\n",
      "INPUT: chicken and peanut: \n",
      "OUTPUT: Papaya-Stuffed Chicken and Basmati Rice SCORE: (0.20999329)\n",
      "--------------------------------------------------\n",
      "INPUT: chicken and peanut: \n",
      "OUTPUT: Mexican Chicken and Rice Soup (Sopa de Pollo y Arroz) SCORE: (0.21442628)\n",
      "--------------------------------------------------\n",
      "INPUT: chicken and peanut: \n",
      "OUTPUT: Khoresht Fesenjaan (Chicken with Pomegranate Sauce) SCORE: (0.21008001)\n",
      "--------------------------------------------------\n",
      "INPUT: chicken and peanut: \n",
      "OUTPUT: Healthy Chocolate Smoothie SCORE: (0.21551669)\n",
      "--------------------------------------------------\n",
      "INPUT: chicken and peanut: \n",
      "OUTPUT: Green Papaya Salad (Som Tam Malakor) SCORE: (0.19567707)\n",
      "--------------------------------------------------\n",
      "INPUT: chicken and peanut: \n",
      "OUTPUT: Chocolate Banana Peanut Butter Protein Shake SCORE: (0.20780507)\n",
      "--------------------------------------------------\n",
      "INPUT: chicken and peanut: \n",
      "OUTPUT: Chicken, Avocado and Mango Salad SCORE: (0.19447339)\n",
      "--------------------------------------------------\n",
      "INPUT: chicken and peanut: \n",
      "OUTPUT: Cherry Chicken Salad SCORE: (0.19647843)\n",
      "--------------------------------------------------\n",
      "INPUT: chicken and peanut: \n",
      "OUTPUT: Cherry Chicken SCORE: (0.20923775)\n",
      "--------------------------------------------------\n",
      "INPUT: chicken and peanut: \n",
      "OUTPUT: Caribbean Chicken SCORE: (0.21562758)\n",
      "--------------------------------------------------\n",
      "INPUT: chicken and peanut: \n",
      "OUTPUT: Avocado Soup with Chicken and Lime SCORE: (0.20315653)\n",
      "--------------------------------------------------\n",
      "INPUT: chicken and peanut: \n",
      "OUTPUT: Apricot Glazed Chicken SCORE: (0.1933773)\n",
      "--------------------------------------------------\n",
      "INPUT: chicken and peanut: \n",
      "OUTPUT: Apricot Chicken with Balsamic Vinegar SCORE: (0.20873225)\n",
      "--------------------------------------------------\n",
      "INPUT: chicken and peanut: \n",
      "OUTPUT: Apricot Chicken Curry SCORE: (0.2120934)\n",
      "--------------------------------------------------\n"
     ]
    }
   ],
   "source": [
    "# Run query and print results\n",
    "with Session(engine) as session:\n",
    "    most_similars = session.execute(text(query)) #.scalars()\n",
    "    print(f\"Most similar recipes to 'chicken and peanut':\")\n",
    "    print(f\"--------------------------------------------------\")\n",
    "    for Recipe in most_similars:\n",
    "        print(f\"INPUT: {Recipe[0]}: \\nOUTPUT: {Recipe[1]} SCORE: ({Recipe[2]})\")\n",
    "        print(f\"--------------------------------------------------\")"
   ]
  },
  {
   "cell_type": "code",
   "execution_count": null,
   "metadata": {},
   "outputs": [],
   "source": []
  }
 ],
 "metadata": {
  "kernelspec": {
   "display_name": "venv3_12_rfp",
   "language": "python",
   "name": "python3"
  },
  "language_info": {
   "codemirror_mode": {
    "name": "ipython",
    "version": 3
   },
   "file_extension": ".py",
   "mimetype": "text/x-python",
   "name": "python",
   "nbconvert_exporter": "python",
   "pygments_lexer": "ipython3",
   "version": "3.12.10"
  }
 },
 "nbformat": 4,
 "nbformat_minor": 2
}
