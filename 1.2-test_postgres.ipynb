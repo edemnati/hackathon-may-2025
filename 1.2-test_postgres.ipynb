{
 "cells": [
  {
   "cell_type": "code",
   "execution_count": 11,
   "metadata": {},
   "outputs": [],
   "source": [
    "import json\n",
    "import os\n",
    "from pathlib import Path\n",
    "import pandas as pd\n",
    "\n",
    "from azure.identity import DefaultAzureCredential\n",
    "from dotenv import load_dotenv\n",
    "from pgvector.sqlalchemy import Vector\n",
    "from sqlalchemy import Index, create_engine, select, text\n",
    "from sqlalchemy.orm import Session\n"
   ]
  },
  {
   "cell_type": "code",
   "execution_count": 12,
   "metadata": {},
   "outputs": [
    {
     "name": "stdout",
     "output_type": "stream",
     "text": [
      "Authenticating to Azure Database for PostgreSQL using Azure Identity...\n"
     ]
    }
   ],
   "source": [
    "\n",
    "# Connect to the database based on environment variables\n",
    "load_dotenv(\".env\", override=True)\n",
    "POSTGRES_HOST = os.environ[\"POSTGRES_HOST\"]\n",
    "POSTGRES_USERNAME = os.environ[\"POSTGRES_USERNAME\"]\n",
    "POSTGRES_DATABASE = os.environ[\"POSTGRES_DATABASE\"]\n",
    "\n",
    "if POSTGRES_HOST.endswith(\".database.azure.com\"):\n",
    "    print(\"Authenticating to Azure Database for PostgreSQL using Azure Identity...\")\n",
    "    azure_credential = DefaultAzureCredential()\n",
    "    token = azure_credential.get_token(\"https://ossrdbms-aad.database.windows.net/.default\")\n",
    "    POSTGRES_PASSWORD = token.token\n",
    "else:\n",
    "    POSTGRES_PASSWORD = os.environ[\"POSTGRES_PASSWORD\"]\n",
    "\n",
    "DATABASE_URI = f\"postgresql://{POSTGRES_USERNAME}:{POSTGRES_PASSWORD}@{POSTGRES_HOST}/{POSTGRES_DATABASE}\"\n",
    "# Specify SSL mode if needed\n",
    "if POSTGRES_SSL := os.environ.get(\"POSTGRES_SSL\"):\n",
    "    DATABASE_URI += f\"?sslmode={POSTGRES_SSL}\"\n",
    "\n",
    "engine = create_engine(DATABASE_URI, echo=False)"
   ]
  },
  {
   "cell_type": "code",
   "execution_count": 16,
   "metadata": {},
   "outputs": [
    {
     "name": "stdout",
     "output_type": "stream",
     "text": [
      "Most similar recipes to 'chicken and peanut':\n",
      "--------------------------------------------------\n",
      "INPUT: chicken and peanut: \n",
      "OUTPUT: Apricot Glazed Chicken SCORE: (Total Fat 2g 2%, Saturated Fat 1g 3%, Cholesterol 83mg 28%, Sodium 227mg 10%, Total Carbohydrate 35g 13%, Total Sugars 31g, Protein 34g, Vitamin C 2mg 9%, Calcium 16mg 1%, Iron 1mg 6%, Potassium 367mg 8%)\n",
      "--------------------------------------------------\n",
      "INPUT: chicken and peanut: \n",
      "OUTPUT: Chicken, Avocado and Mango Salad SCORE: (Total Fat 16g 21%, Saturated Fat 4g 18%, Cholesterol 55mg 18%, Sodium 698mg 30%, Total Carbohydrate 20g 7%, Dietary Fiber 5g 19%, Total Sugars 12g, Protein 19g, Vitamin C 31mg 153%, Calcium 37mg 3%, Iron 2mg 11%, Potassium 526mg 11%)\n",
      "--------------------------------------------------\n",
      "INPUT: chicken and peanut: \n",
      "OUTPUT: Green Papaya Salad (Som Tam Malakor) SCORE: (Total Fat 10g 13%, Saturated Fat 1g 7%, Cholesterol 5mg 2%, Sodium 1126mg 49%, Total Carbohydrate 37g 14%, Dietary Fiber 7g 26%, Total Sugars 17g, Protein 9g, Vitamin C 197mg 985%, Calcium 89mg 7%, Iron 2mg 12%, Potassium 855mg 18%)\n",
      "--------------------------------------------------\n",
      "INPUT: chicken and peanut: \n",
      "OUTPUT: Peanut Butter Banana Smoothie SCORE: (Total Fat 19g 24%, Saturated Fat 5g 25%, Cholesterol 10mg 3%, Sodium 203mg 9%, Total Carbohydrate 34g 12%, Dietary Fiber 4g 13%, Total Sugars 25g, Protein 13g, Vitamin C 5mg 27%, Calcium 164mg 13%, Iron 1mg 4%, Potassium 610mg 13%)\n",
      "--------------------------------------------------\n",
      "INPUT: chicken and peanut: \n",
      "OUTPUT: Cherry Chicken Salad SCORE: (Total Fat 13g 16%, Saturated Fat 2g 12%, Cholesterol 62mg 21%, Sodium 356mg 15%, Total Carbohydrate 12g 4%, Dietary Fiber 2g 8%, Total Sugars 8g, Protein 24g, Vitamin C 1mg 5%, Calcium 34mg 3%, Iron 1mg 7%, Potassium 230mg 5%)\n",
      "--------------------------------------------------\n"
     ]
    }
   ],
   "source": [
    "# Run query and print results\n",
    "query=\"select * from recommend_recipe_by_description('chicken and peanut',5)\"\n",
    "with Session(engine) as session:\n",
    "    most_similars = session.execute(text(query)) #.scalars()\n",
    "    print(f\"Most similar recipes to 'chicken and peanut':\")\n",
    "    print(f\"--------------------------------------------------\")\n",
    "    for Recipe in most_similars:\n",
    "        print(f\"INPUT: {Recipe[0]}: \\nOUTPUT: {Recipe[1]} SCORE: ({Recipe[2]})\")\n",
    "        print(f\"--------------------------------------------------\")"
   ]
  },
  {
   "cell_type": "code",
   "execution_count": null,
   "metadata": {},
   "outputs": [],
   "source": []
  }
 ],
 "metadata": {
  "kernelspec": {
   "display_name": "venv3_12_rfp",
   "language": "python",
   "name": "python3"
  },
  "language_info": {
   "codemirror_mode": {
    "name": "ipython",
    "version": 3
   },
   "file_extension": ".py",
   "mimetype": "text/x-python",
   "name": "python",
   "nbconvert_exporter": "python",
   "pygments_lexer": "ipython3",
   "version": "3.12.10"
  }
 },
 "nbformat": 4,
 "nbformat_minor": 2
}
