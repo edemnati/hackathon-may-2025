{
 "cells": [
  {
   "cell_type": "code",
   "execution_count": 16,
   "metadata": {},
   "outputs": [
    {
     "data": {
      "text/plain": [
       "True"
      ]
     },
     "execution_count": 16,
     "metadata": {},
     "output_type": "execute_result"
    }
   ],
   "source": [
    "import json\n",
    "import os\n",
    "\n",
    "from openai import AzureOpenAI\n",
    "from azure.core.credentials import AzureKeyCredential\n",
    "\n",
    "from azure.identity import DefaultAzureCredential\n",
    "from sqlalchemy import create_engine\n",
    "from sqlalchemy import Index, create_engine, select, text\n",
    "from sqlalchemy.orm import DeclarativeBase, Mapped, Session, mapped_column\n",
    "import urllib\n",
    "\n",
    "from dotenv import load_dotenv\n",
    "import os\n",
    "\n",
    "load_dotenv(override=True)"
   ]
  },
  {
   "cell_type": "code",
   "execution_count": 17,
   "metadata": {},
   "outputs": [
    {
     "data": {
      "text/plain": [
       "'asst_Oq6t2LdLdnDIl8HJH6QXdTmq'"
      ]
     },
     "execution_count": 17,
     "metadata": {},
     "output_type": "execute_result"
    }
   ],
   "source": [
    "os.getenv(\"AZURE_ASSISTANT_ID\")"
   ]
  },
  {
   "cell_type": "code",
   "execution_count": 18,
   "metadata": {},
   "outputs": [],
   "source": [
    "def query_db(query: str) -> dict:        \n",
    "        print(\"Authenticating to Azure Database for PostgreSQL using Azure Identity...\")\n",
    "        POSTGRES_HOST = os.environ[\"POSTGRES_HOST\"]\n",
    "        POSTGRES_USERNAME = os.environ[\"POSTGRES_USERNAME\"]\n",
    "        POSTGRES_DATABASE = os.environ[\"POSTGRES_DATABASE\"]\n",
    "        POSTGRES_SSL = os.environ.get(\"POSTGRES_SSL\")\n",
    "\n",
    "        azure_credential = DefaultAzureCredential()\n",
    "        token = azure_credential.get_token(\"https://ossrdbms-aad.database.windows.net/.default\")\n",
    "        POSTGRES_PASSWORD = token.token\n",
    "\n",
    "        DATABASE_URI = f\"postgresql://{POSTGRES_USERNAME}:{POSTGRES_PASSWORD}@{POSTGRES_HOST}/{POSTGRES_DATABASE}\"\n",
    "        # Specify SSL mode if needed\n",
    "        DATABASE_URI += f\"?sslmode={POSTGRES_SSL}\"\n",
    "\n",
    "        engine = create_engine(DATABASE_URI, echo=False)\n",
    "\n",
    "        # Run query\n",
    "        results = []\n",
    "        with Session(engine) as session:\n",
    "                most_similars = session.execute(text(query)) #.scalars()\n",
    "                #print(f\"Most similar recipes to 'chicken and peanut':\")\n",
    "                #print(f\"--------------------------------------------------\")\n",
    "                for Recipe in most_similars:\n",
    "                        results.append({\"recipe\": Recipe[1], \"score\": Recipe[2]})\n",
    "                        #print(f\"INPUT: {Recipe[0]}: \\nOUTPUT: {Recipe[1]} SCORE: ({Recipe[2]})\")\n",
    "                        #print(f\"--------------------------------------------------\")\n",
    "        \n",
    "        \n",
    "        return json.dumps(results)"
   ]
  },
  {
   "cell_type": "code",
   "execution_count": 19,
   "metadata": {},
   "outputs": [],
   "source": [
    "from azure.identity import DefaultAzureCredential, get_bearer_token_provider\n",
    "from openai import AzureOpenAI\n",
    "\n",
    "token_provider = get_bearer_token_provider(\n",
    "    DefaultAzureCredential(), \"https://cognitiveservices.azure.com/.default\"\n",
    ")\n",
    "\n",
    "# Initialize the Azure OpenAI client\n",
    "client = AzureOpenAI(\n",
    "    azure_endpoint = os.getenv(\"AZURE_OPENAI_ENDPOINT\"), \n",
    "    #api_key=os.getenv(\"AZURE_OPENAI_KEY\"),  \n",
    "    azure_ad_token_provider=token_provider,\n",
    "    api_version=\"2025-02-01-preview\"\n",
    ")\n",
    "\n",
    "\n",
    "reviewer_coder_system_message=\"\"\"\n",
    "    Your responsibility is to chat with the user and to make sure that the response is coherent with the user question.\n",
    "    \n",
    "    Follow these instructions to assist the user:\n",
    "    STEPS:\n",
    "    1. Review the user question and rephrase it if needed. Don't try to answer the question directly.\n",
    "    2. Refer to the chat history to understand the context of the conversation.\n",
    "    3. Given an input question, create a syntactically correct SQL query, and call the query_db function to execute the query and return the resulting data in markdown format.\n",
    "    4. Format the data using markdown format.\n",
    "    5. Review the data returned by the Reviewer agent and format it to return the appropriate response.\n",
    "    6. If the data is not satisfactory, provide specific suggestions to the Coder agent to improve the data.\n",
    "    7. If the data is satisfactory, return it to the user.\n",
    "\n",
    "    The SQL query must be syntactically correct to run on a PostgreSQL database and should not contain any errors.\n",
    "    The SQL query must be based on the following tables and fields:\n",
    "    \n",
    "    PostgreSQL \"recommend_recipe_by_description\" table has properties:\n",
    "        #\n",
    "        #  in_recipedescription character varying \"input recipe description\"\n",
    "        #  out_recipename character varying \"similar recipe name\"\n",
    "        #  out_similarityscore real \"similarity score between 0 and 1\"\n",
    "        #  \n",
    "\n",
    "            \n",
    "    Examples:\n",
    "    Question: What recipes are similar to 'chicken and peanut'?\n",
    "\n",
    "    Query:\n",
    "    SELECT in_recipedescription, out_recipename, out_similarityscore \n",
    "    FROM recommend_recipe_by_description('chicken and peanut', 3)\n",
    "    WHERE out_similarityscore !=0\n",
    "    ORDER BY 2 DESC\n",
    "    ; \n",
    "\n",
    "    Answer:\n",
    "    The top 3 most similar recipes to 'chicken and peanut' are in markdown format: \n",
    "    markdown table example:\n",
    "    | Recipe Name | Similarity Score |\n",
    "    | ------------- | ----------------- |\n",
    "    | Recipe 1 | 0.95 |\n",
    "    | Recipe 2 | 0.90 |\n",
    "    | Recipe 3 | 0.85 |\n",
    "\n",
    "\n",
    "    RULES:\n",
    "    - Only identify suggestions that are specific and actionable.\n",
    "    - Verify previous suggestions have been addressed.\n",
    "    - Never try to simulate the data, always call the Coder agent to get the data.\n",
    "    - Never repeat previous suggestions.\n",
    "    - Never generate SQL query, let the coder agent do that.\n",
    "    - **MUST** nerver make up data or use data from other tables. Use only result returned by the surveyDataInsightsPlugin function.\n",
    "    \"\"\"\n",
    " \n",
    "assistant = client.beta.assistants.create(\n",
    "    instructions=reviewer_coder_system_message,\n",
    "    model=\"gpt-4o\",\n",
    "    tools=[{\"type\": \"code_interpreter\"},\n",
    "            {\n",
    "                \"type\": \"function\",\n",
    "                \"function\": {\n",
    "                    \"name\": \"query_db\",\n",
    "                    \"description\": \"Execute SQL query\",\n",
    "                    \"parameters\": {\n",
    "                        \"type\": \"object\",\n",
    "                        \"properties\": {\n",
    "                            \"query\": {\n",
    "                                \"type\": \"string\",\n",
    "                                \"description\": \"query to be executed in SQL database\",\n",
    "                            },\n",
    "                        },\n",
    "                        \"required\": [\"query\"],\n",
    "                    },\n",
    "                }\n",
    "            }\n",
    "    ]\n",
    "    )"
   ]
  },
  {
   "cell_type": "code",
   "execution_count": 20,
   "metadata": {},
   "outputs": [
    {
     "name": "stdout",
     "output_type": "stream",
     "text": [
      "assistant\n"
     ]
    },
    {
     "data": {
      "text/plain": [
       "{'id': 'asst_FtYhCpOr1clXR698M9rMI35h',\n",
       " 'created_at': 1744749727,\n",
       " 'description': None,\n",
       " 'instructions': '\\n    Your responsibility is to chat with the user and to make sure that the response is coherent with the user question.\\n    \\n    Follow these instructions to assist the user:\\n    STEPS:\\n    1. Review the user question and rephrase it if needed. Don\\'t try to answer the question directly.\\n    2. Refer to the chat history to understand the context of the conversation.\\n    3. Given an input question, create a syntactically correct SQL query, and call the query_db function to execute the query and return the resulting data in markdown format.\\n    4. Format the data using markdown format.\\n    5. Review the data returned by the Reviewer agent and format it to return the appropriate response.\\n    6. If the data is not satisfactory, provide specific suggestions to the Coder agent to improve the data.\\n    7. If the data is satisfactory, return it to the user.\\n\\n    The SQL query must be syntactically correct to run on a PostgreSQL database and should not contain any errors.\\n    The SQL query must be based on the following tables and fields:\\n    \\n    PostgreSQL \"recommend_recipe_by_description\" table has properties:\\n        #\\n        #  in_recipedescription character varying \"input recipe description\"\\n        #  out_recipename character varying \"similar recipe name\"\\n        #  out_similarityscore real \"similarity score between 0 and 1\"\\n        #  \\n\\n            \\n    Examples:\\n    Question: What recipes are similar to \\'chicken and peanut\\'?\\n\\n    Query:\\n    SELECT in_recipedescription, out_recipename, out_similarityscore \\n    FROM recommend_recipe_by_description(\\'chicken and peanut\\', 3)\\n    WHERE out_similarityscore !=0\\n    ORDER BY 2 DESC\\n    ; \\n\\n    Answer:\\n    The top 3 most similar recipes to \\'chicken and peanut\\' are in markdown format: \\n    markdown table example:\\n    | Recipe Name | Similarity Score |\\n    | ------------- | ----------------- |\\n    | Recipe 1 | 0.95 |\\n    | Recipe 2 | 0.90 |\\n    | Recipe 3 | 0.85 |\\n\\n\\n    RULES:\\n    - Only identify suggestions that are specific and actionable.\\n    - Verify previous suggestions have been addressed.\\n    - Never try to simulate the data, always call the Coder agent to get the data.\\n    - Never repeat previous suggestions.\\n    - Never generate SQL query, let the coder agent do that.\\n    - **MUST** nerver make up data or use data from other tables. Use only result returned by the surveyDataInsightsPlugin function.\\n    ',\n",
       " 'metadata': {},\n",
       " 'model': 'gpt-4o',\n",
       " 'name': None,\n",
       " 'object': 'assistant',\n",
       " 'tools': [{'type': 'code_interpreter'},\n",
       "  {'function': {'name': 'query_db',\n",
       "    'description': 'Execute SQL query',\n",
       "    'parameters': {'type': 'object',\n",
       "     'properties': {'query': {'type': 'string',\n",
       "       'description': 'query to be executed in SQL database'}},\n",
       "     'required': ['query']},\n",
       "    'strict': False},\n",
       "   'type': 'function'}],\n",
       " 'response_format': 'auto',\n",
       " 'temperature': 1.0,\n",
       " 'tool_resources': {'code_interpreter': {'file_ids': []}},\n",
       " 'top_p': 1.0}"
      ]
     },
     "execution_count": 20,
     "metadata": {},
     "output_type": "execute_result"
    }
   ],
   "source": [
    "print(\"assistant\")\n",
    "assistant.to_dict()"
   ]
  },
  {
   "cell_type": "code",
   "execution_count": 21,
   "metadata": {},
   "outputs": [
    {
     "name": "stdout",
     "output_type": "stream",
     "text": [
      "Authenticating to Azure Database for PostgreSQL using Azure Identity...\n"
     ]
    },
    {
     "data": {
      "text/plain": [
       "'[{\"recipe\": \"Green Papaya Salad (Som Tam Malakor)\", \"score\": 0.19567707}, {\"recipe\": \"Chicken, Avocado and Mango Salad\", \"score\": 0.19447339}, {\"recipe\": \"Apricot Glazed Chicken\", \"score\": 0.1933773}]'"
      ]
     },
     "execution_count": 21,
     "metadata": {},
     "output_type": "execute_result"
    }
   ],
   "source": [
    "query_db(\"\"\"SELECT in_recipedescription, out_recipename, out_similarityscore \n",
    "         FROM recommend_recipe_by_description('chicken and peanut', 3)\n",
    "         WHERE out_similarityscore !=0\\nORDER BY 2 DESC\"\"\"\n",
    "         )\n",
    "\n"
   ]
  },
  {
   "cell_type": "code",
   "execution_count": 22,
   "metadata": {},
   "outputs": [],
   "source": [
    "thread = client.beta.threads.create()\n",
    "message = client.beta.threads.messages.create(\n",
    "  thread_id=thread.id,\n",
    "  role=\"user\",\n",
    "  content=\"I am looking for recipe that contains chicken and peanut. Can you suggest me few similar recipes? Show me a graph\",\n",
    ")"
   ]
  },
  {
   "cell_type": "code",
   "execution_count": 23,
   "metadata": {},
   "outputs": [
    {
     "name": "stdout",
     "output_type": "stream",
     "text": [
      "tool.function:Function(arguments='{\"query\":\"SELECT in_recipedescription, out_recipename, out_similarityscore FROM recommend_recipe_by_description(\\'chicken and peanut\\', 3) WHERE out_similarityscore !=0 ORDER BY 2 DESC;\"}', name='query_db')\n",
      "Authenticating to Azure Database for PostgreSQL using Azure Identity...\n",
      "Here are the top 3 recipes that are most similar to \"chicken and peanut\":\n",
      "\n",
      "| Recipe Name                      | Similarity Score |\n",
      "|----------------------------------|------------------|\n",
      "| Green Papaya Salad (Som Tam Malakor) | 0.1957           |\n",
      "| Chicken, Avocado and Mango Salad  | 0.1945           |\n",
      "| Apricot Glazed Chicken            | 0.1934           |\n",
      "\n",
      "Now, I'll create a graph to visualize the similarity scores of these recipes.The graph above displays the similarity scores of recipes that are most similar to \"chicken and peanut.\" Each bar represents a recipe, and the height indicates its similarity score. Let me know if you'd like further assistance!\n"
     ]
    }
   ],
   "source": [
    "from typing_extensions import override\n",
    "from openai import AssistantEventHandler\n",
    "from openai.types.beta.threads import ImageFile, Message, ImageFileDeltaBlock\n",
    "import base64\n",
    "import json\n",
    "class EventHandler(AssistantEventHandler):\n",
    "    @override\n",
    "    def on_event(self, event):\n",
    "      # Retrieve events that are denoted with 'requires_action'\n",
    "      # since these will have our tool_calls\n",
    "      if event.event == 'thread.run.requires_action':\n",
    "        run_id = event.data.id  # Retrieve the run ID from the event data\n",
    "        self.handle_requires_action(event.data, run_id)\n",
    " \n",
    "    def handle_requires_action(self, data, run_id):\n",
    "      tool_outputs = []\n",
    "        \n",
    "      for tool in data.required_action.submit_tool_outputs.tool_calls:\n",
    "        if tool.function.name == \"query_db\":\n",
    "          print(f\"tool.function:{tool.function}\")\n",
    "          query = json.loads(tool.function.arguments)[\"query\"]\n",
    "          tool_outputs.append({\"tool_call_id\": tool.id, \"output\": query_db(query)})\n",
    "        elif tool.function.name == \"get_rain_probability\":\n",
    "          tool_outputs.append({\"tool_call_id\": tool.id, \"output\": \"0.06\"})\n",
    "        \"\"\"\n",
    "        if tool.type == \"code_interpreter\":\n",
    "          if tool.code_interpreter.input:\n",
    "              tool_outputs.append(json.dumps(dict(code=tool.code_interpreter.input.split(\"\\n\"),\n",
    "                                                            tool_call_id=tool.id)))\n",
    "\n",
    "          if tool.code_interpreter.outputs:\n",
    "              output_dict = {}\n",
    "              for output in tool.code_interpreter.outputs:\n",
    "                  if output.type == \"logs\":\n",
    "                      output_dict[\"logs\"] = output.logs.split(\"\\n\")\n",
    "                  elif output.type == \"image\":\n",
    "                      output_dict[\"image_file_id\"] =  output.image.file_id\n",
    "                      file_id = output.image.file_id\n",
    "                      #image_base64 = Image(client.files.content(file_id).read()).to_base64(with_type=True)\n",
    "                      image_base64 = base64.b64encode(client.files.content(file_id).read()).decode('utf-8')\n",
    "                      output_dict[\"image_base64\"] = image_base64\n",
    "                      tool_outputs.append({\"tool_call_id\": tool.id, \"output\": image_base64})\n",
    "          \"\"\"\n",
    "      \n",
    "      # Submit all tool_outputs at the same time\n",
    "      self.submit_tool_outputs(tool_outputs, run_id)\n",
    " \n",
    "    def submit_tool_outputs(self, tool_outputs, run_id):\n",
    "      # Use the submit_tool_outputs_stream helper\n",
    "      with client.beta.threads.runs.submit_tool_outputs_stream(\n",
    "        thread_id=self.current_run.thread_id,\n",
    "        run_id=self.current_run.id,\n",
    "        tool_outputs=tool_outputs,\n",
    "        event_handler=EventHandler(),\n",
    "      ) as stream:\n",
    "        for text in stream.text_deltas:\n",
    "          print(text, end=\"\", flush=True)\n",
    "        \n",
    "        print()\n",
    "        \n",
    " \n",
    "with client.beta.threads.runs.stream(\n",
    "  thread_id=thread.id,\n",
    "  assistant_id=assistant.id,\n",
    "  event_handler=EventHandler()\n",
    ") as stream:\n",
    "  stream.until_done()"
   ]
  }
 ],
 "metadata": {
  "kernelspec": {
   "display_name": "venv3_12_rfp",
   "language": "python",
   "name": "python3"
  },
  "language_info": {
   "codemirror_mode": {
    "name": "ipython",
    "version": 3
   },
   "file_extension": ".py",
   "mimetype": "text/x-python",
   "name": "python",
   "nbconvert_exporter": "python",
   "pygments_lexer": "ipython3",
   "version": "3.12.10"
  }
 },
 "nbformat": 4,
 "nbformat_minor": 2
}
